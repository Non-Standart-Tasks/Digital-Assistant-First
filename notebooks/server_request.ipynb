{
 "cells": [
  {
   "cell_type": "code",
   "execution_count": null,
   "metadata": {},
   "outputs": [],
   "source": [
    "import requests\n",
    "\n",
    "\n",
    "response = requests.post(\n",
    "    url='http://127.0.0.1:8080/message',\n",
    "    json={ \n",
    "        \"user_id\": 4,\n",
    "        \"message\": \"Как установить ВТБ онлйан на Андроид? Дай короткую инструкцию\"\n",
    "    }\n",
    ")\n",
    "response.content.decode()"
   ]
  }
 ],
 "metadata": {
  "language_info": {
   "name": "python"
  }
 },
 "nbformat": 4,
 "nbformat_minor": 2
}
